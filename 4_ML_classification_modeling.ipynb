{
 "cells": [
  {
   "cell_type": "markdown",
   "id": "896ac136-1273-4b7f-9f48-91aaaedb70cb",
   "metadata": {},
   "source": [
    "### Models to predict the price trend (up/down)."
   ]
  },
  {
   "cell_type": "markdown",
   "id": "6d6c4da9-cdae-47bd-8a9c-7829960f4767",
   "metadata": {},
   "source": [
    "##### By using the sliding window method, we can convert the time series data problem into a supervised learning."
   ]
  },
  {
   "cell_type": "code",
   "execution_count": 1,
   "id": "cc35df7c-92c8-42fa-a8c4-f7679852caa1",
   "metadata": {},
   "outputs": [],
   "source": [
    "# Import neccessary packages\n",
    "import numpy as np \n",
    "import pandas as pd \n",
    "from pandas import DataFrame\n",
    "from pandas import concat\n",
    "from matplotlib import pyplot as plt\n",
    "\n",
    "from sklearn.preprocessing import StandardScaler\n",
    "from sklearn.model_selection import train_test_split\n",
    "\n",
    "from sklearn.tree import DecisionTreeClassifier\n",
    "from sklearn.ensemble import RandomForestClassifier\n",
    "from sklearn.naive_bayes import GaussianNB\n",
    "from sklearn.svm import LinearSVC\n",
    "from xgboost import XGBClassifier\n",
    "from sklearn.linear_model import LogisticRegression\n",
    "\n",
    "from sklearn.pipeline import Pipeline\n",
    "\n",
    "from sklearn.metrics import accuracy_score, f1_score, precision_score, recall_score, confusion_matrix\n",
    "from sklearn.metrics import log_loss, roc_auc_score, average_precision_score, classification_report\n",
    "\n",
    "import warnings\n",
    "warnings.filterwarnings(\"ignore\")"
   ]
  },
  {
   "cell_type": "markdown",
   "id": "fc98afaf-295e-43d9-83b1-bd0c8e4d7be4",
   "metadata": {},
   "source": [
    "##### Create some functions we are going to use:"
   ]
  },
  {
   "cell_type": "code",
   "execution_count": 2,
   "id": "347b842f-e5c2-4ac8-83dc-c4643f6b9ca1",
   "metadata": {},
   "outputs": [],
   "source": [
    "def time_series_to_supervised(data, n_in=1, n_out=1, dropnan=True):\n",
    "    \n",
    "    \"\"\"\n",
    "    Frame a time series as a supervised learning dataset.\n",
    "    Arguments:\n",
    "        data: Sequence of observations as a list or NumPy array.\n",
    "        n_in: Number of lag observations as input (X).\n",
    "        n_out: Number of observations as output (y).\n",
    "        dropnan: Boolean whether or not to drop rows with NaN values.\n",
    "    Returns:\n",
    "        Pandas DataFrame of series framed for supervised learning.\n",
    "    \"\"\"\n",
    "    \n",
    "    n_vars = 1 if type(data) is list else data.shape[1]\n",
    "    df = DataFrame(data)\n",
    "    cols, names = list(), list()\n",
    "    \n",
    "    # input sequence (t-n, ... t-1)\n",
    "    for i in range(n_in, 0, -1):\n",
    "        cols.append(df.shift(i))\n",
    "        names += [('var%d(t-%d)' % (j+1, i)) for j in range(n_vars)]\n",
    "        \n",
    "    # forecast sequence (t, t+1, ... t+n)\n",
    "    for i in range(0, n_out):\n",
    "        cols.append(df.shift(-i))\n",
    "        if i == 0:\n",
    "            names += [('var%d(t)' % (j+1)) for j in range(n_vars)]\n",
    "        else:\n",
    "            names += [('var%d(t+%d)' % (j+1, i)) for j in range(n_vars)]\n",
    "    \n",
    "    # put it all together\n",
    "    agg = concat(cols, axis=1)\n",
    "    agg.columns = names\n",
    "    \n",
    "    # drop rows with NaN values\n",
    "    if dropnan:\n",
    "        agg.dropna(inplace=True)\n",
    "    return agg"
   ]
  },
  {
   "cell_type": "code",
   "execution_count": 3,
   "id": "460bf401-f2e2-4cba-83fd-be0de27e019a",
   "metadata": {},
   "outputs": [],
   "source": [
    "def binary_classifier_metrics(y_test, y_pred):\n",
    "    \n",
    "    \"\"\"\n",
    "    Return metrics for binary classification models.\n",
    "    \n",
    "    \"\"\"\n",
    "    \n",
    "    print('Accuracy: ', accuracy_score(y_test, y_pred))\n",
    "    print('Precision score: ', precision_score(y_test, y_pred))\n",
    "    print('Confusion Matrix: \\n', confusion_matrix(y_test, y_pred))\n",
    "    print('F1 score: ', f1_score(y_test, y_pred))\n",
    "    print('Recall score: ', recall_score(y_test, y_pred))"
   ]
  },
  {
   "cell_type": "markdown",
   "id": "23ed359d-69cd-4699-a79d-98fd3b04e2f3",
   "metadata": {},
   "source": [
    "  "
   ]
  },
  {
   "cell_type": "markdown",
   "id": "8c962111-b32e-43c3-b451-147a40b178cc",
   "metadata": {},
   "source": [
    "### 1. Data loading"
   ]
  },
  {
   "cell_type": "code",
   "execution_count": 4,
   "id": "450d23fc-f536-497b-a610-a9eb3e544519",
   "metadata": {},
   "outputs": [
    {
     "data": {
      "text/html": [
       "<div>\n",
       "<style scoped>\n",
       "    .dataframe tbody tr th:only-of-type {\n",
       "        vertical-align: middle;\n",
       "    }\n",
       "\n",
       "    .dataframe tbody tr th {\n",
       "        vertical-align: top;\n",
       "    }\n",
       "\n",
       "    .dataframe thead th {\n",
       "        text-align: right;\n",
       "    }\n",
       "</style>\n",
       "<table border=\"1\" class=\"dataframe\">\n",
       "  <thead>\n",
       "    <tr style=\"text-align: right;\">\n",
       "      <th></th>\n",
       "      <th>date</th>\n",
       "      <th>PriceUSD</th>\n",
       "      <th>AdrActCnt</th>\n",
       "      <th>AdrBal1in100MCnt</th>\n",
       "      <th>AdrBal1in10BCnt</th>\n",
       "      <th>AdrBal1in10MCnt</th>\n",
       "      <th>AdrBal1in1BCnt</th>\n",
       "      <th>AdrBal1in1MCnt</th>\n",
       "      <th>CapMrktCurUSD</th>\n",
       "      <th>DiffLast</th>\n",
       "      <th>...</th>\n",
       "      <th>FlowInExUSD</th>\n",
       "      <th>FlowOutExUSD</th>\n",
       "      <th>GasUsedTx</th>\n",
       "      <th>GasUsedTxMean</th>\n",
       "      <th>HashRate</th>\n",
       "      <th>RevHashNtv</th>\n",
       "      <th>RevHashRateUSD</th>\n",
       "      <th>SplyAdrBalUSD1M</th>\n",
       "      <th>TxCnt</th>\n",
       "      <th>TxTfrValMedUSD</th>\n",
       "    </tr>\n",
       "  </thead>\n",
       "  <tbody>\n",
       "    <tr>\n",
       "      <th>0</th>\n",
       "      <td>2015-08-08</td>\n",
       "      <td>1.199990</td>\n",
       "      <td>1208</td>\n",
       "      <td>9958</td>\n",
       "      <td>10267</td>\n",
       "      <td>9550</td>\n",
       "      <td>10115</td>\n",
       "      <td>8111</td>\n",
       "      <td>8.676871e+07</td>\n",
       "      <td>1606016380751</td>\n",
       "      <td>...</td>\n",
       "      <td>1.033888e+06</td>\n",
       "      <td>1.698517e+04</td>\n",
       "      <td>376006093</td>\n",
       "      <td>130512.354391</td>\n",
       "      <td>0.096483</td>\n",
       "      <td>3.360253</td>\n",
       "      <td>348388.084065</td>\n",
       "      <td>1.661840e+07</td>\n",
       "      <td>2881</td>\n",
       "      <td>1.199990</td>\n",
       "    </tr>\n",
       "    <tr>\n",
       "      <th>1</th>\n",
       "      <td>2015-08-09</td>\n",
       "      <td>1.199990</td>\n",
       "      <td>1113</td>\n",
       "      <td>10043</td>\n",
       "      <td>10411</td>\n",
       "      <td>9573</td>\n",
       "      <td>10222</td>\n",
       "      <td>8091</td>\n",
       "      <td>8.680133e+07</td>\n",
       "      <td>1741399466631</td>\n",
       "      <td>...</td>\n",
       "      <td>6.414313e+05</td>\n",
       "      <td>1.127113e+05</td>\n",
       "      <td>38863003</td>\n",
       "      <td>29242.289691</td>\n",
       "      <td>0.101360</td>\n",
       "      <td>3.105048</td>\n",
       "      <td>321928.661618</td>\n",
       "      <td>1.682678e+07</td>\n",
       "      <td>1329</td>\n",
       "      <td>15.599147</td>\n",
       "    </tr>\n",
       "    <tr>\n",
       "      <th>2</th>\n",
       "      <td>2015-08-10</td>\n",
       "      <td>1.199990</td>\n",
       "      <td>1430</td>\n",
       "      <td>10145</td>\n",
       "      <td>10572</td>\n",
       "      <td>9611</td>\n",
       "      <td>10348</td>\n",
       "      <td>8101</td>\n",
       "      <td>8.683471e+07</td>\n",
       "      <td>1948102094734</td>\n",
       "      <td>...</td>\n",
       "      <td>1.055335e+06</td>\n",
       "      <td>2.135630e+05</td>\n",
       "      <td>74070061</td>\n",
       "      <td>36362.327442</td>\n",
       "      <td>0.111855</td>\n",
       "      <td>2.881582</td>\n",
       "      <td>298759.890307</td>\n",
       "      <td>1.720648e+07</td>\n",
       "      <td>2037</td>\n",
       "      <td>0.718002</td>\n",
       "    </tr>\n",
       "    <tr>\n",
       "      <th>3</th>\n",
       "      <td>2015-08-11</td>\n",
       "      <td>0.990000</td>\n",
       "      <td>2697</td>\n",
       "      <td>10188</td>\n",
       "      <td>10706</td>\n",
       "      <td>9614</td>\n",
       "      <td>10429</td>\n",
       "      <td>8081</td>\n",
       "      <td>7.166698e+07</td>\n",
       "      <td>2171897473895</td>\n",
       "      <td>...</td>\n",
       "      <td>4.513437e+05</td>\n",
       "      <td>1.752126e+05</td>\n",
       "      <td>163481740</td>\n",
       "      <td>32940.104775</td>\n",
       "      <td>0.124450</td>\n",
       "      <td>2.607691</td>\n",
       "      <td>223051.462249</td>\n",
       "      <td>1.551874e+07</td>\n",
       "      <td>4963</td>\n",
       "      <td>0.053993</td>\n",
       "    </tr>\n",
       "    <tr>\n",
       "      <th>4</th>\n",
       "      <td>2015-08-12</td>\n",
       "      <td>1.288000</td>\n",
       "      <td>1219</td>\n",
       "      <td>10296</td>\n",
       "      <td>10893</td>\n",
       "      <td>9654</td>\n",
       "      <td>10574</td>\n",
       "      <td>8105</td>\n",
       "      <td>9.327472e+07</td>\n",
       "      <td>2248237602936</td>\n",
       "      <td>...</td>\n",
       "      <td>4.743256e+05</td>\n",
       "      <td>1.891297e+05</td>\n",
       "      <td>70102332</td>\n",
       "      <td>34431.400786</td>\n",
       "      <td>0.130915</td>\n",
       "      <td>2.422720</td>\n",
       "      <td>269607.996077</td>\n",
       "      <td>1.851254e+07</td>\n",
       "      <td>2036</td>\n",
       "      <td>12.880000</td>\n",
       "    </tr>\n",
       "    <tr>\n",
       "      <th>...</th>\n",
       "      <td>...</td>\n",
       "      <td>...</td>\n",
       "      <td>...</td>\n",
       "      <td>...</td>\n",
       "      <td>...</td>\n",
       "      <td>...</td>\n",
       "      <td>...</td>\n",
       "      <td>...</td>\n",
       "      <td>...</td>\n",
       "      <td>...</td>\n",
       "      <td>...</td>\n",
       "      <td>...</td>\n",
       "      <td>...</td>\n",
       "      <td>...</td>\n",
       "      <td>...</td>\n",
       "      <td>...</td>\n",
       "      <td>...</td>\n",
       "      <td>...</td>\n",
       "      <td>...</td>\n",
       "      <td>...</td>\n",
       "      <td>...</td>\n",
       "    </tr>\n",
       "    <tr>\n",
       "      <th>2291</th>\n",
       "      <td>2021-11-15</td>\n",
       "      <td>4569.407770</td>\n",
       "      <td>606036</td>\n",
       "      <td>1166692</td>\n",
       "      <td>18202185</td>\n",
       "      <td>241239</td>\n",
       "      <td>5573039</td>\n",
       "      <td>36595</td>\n",
       "      <td>5.367033e+11</td>\n",
       "      <td>11263394429417836</td>\n",
       "      <td>...</td>\n",
       "      <td>8.676790e+08</td>\n",
       "      <td>1.029855e+10</td>\n",
       "      <td>97422476367</td>\n",
       "      <td>75542.615410</td>\n",
       "      <td>817.739849</td>\n",
       "      <td>0.000213</td>\n",
       "      <td>84078.925802</td>\n",
       "      <td>1.025092e+08</td>\n",
       "      <td>1289636</td>\n",
       "      <td>456.940777</td>\n",
       "    </tr>\n",
       "    <tr>\n",
       "      <th>2292</th>\n",
       "      <td>2021-11-16</td>\n",
       "      <td>4234.131465</td>\n",
       "      <td>609879</td>\n",
       "      <td>1165639</td>\n",
       "      <td>18237665</td>\n",
       "      <td>240967</td>\n",
       "      <td>5580973</td>\n",
       "      <td>36564</td>\n",
       "      <td>4.973249e+11</td>\n",
       "      <td>10918227329653401</td>\n",
       "      <td>...</td>\n",
       "      <td>1.755198e+09</td>\n",
       "      <td>1.678261e+09</td>\n",
       "      <td>96356492010</td>\n",
       "      <td>73545.984332</td>\n",
       "      <td>793.794054</td>\n",
       "      <td>0.000219</td>\n",
       "      <td>80290.211052</td>\n",
       "      <td>1.022489e+08</td>\n",
       "      <td>1310153</td>\n",
       "      <td>423.413146</td>\n",
       "    </tr>\n",
       "    <tr>\n",
       "      <th>2293</th>\n",
       "      <td>2021-11-17</td>\n",
       "      <td>4265.599006</td>\n",
       "      <td>695412</td>\n",
       "      <td>1167736</td>\n",
       "      <td>18217312</td>\n",
       "      <td>241192</td>\n",
       "      <td>5589438</td>\n",
       "      <td>36563</td>\n",
       "      <td>5.010266e+11</td>\n",
       "      <td>11549986846583558</td>\n",
       "      <td>...</td>\n",
       "      <td>1.167281e+09</td>\n",
       "      <td>1.282525e+09</td>\n",
       "      <td>98477697827</td>\n",
       "      <td>72772.919850</td>\n",
       "      <td>830.259240</td>\n",
       "      <td>0.000207</td>\n",
       "      <td>76139.406528</td>\n",
       "      <td>1.022624e+08</td>\n",
       "      <td>1353219</td>\n",
       "      <td>319.823949</td>\n",
       "    </tr>\n",
       "    <tr>\n",
       "      <th>2294</th>\n",
       "      <td>2021-11-18</td>\n",
       "      <td>3985.674373</td>\n",
       "      <td>591159</td>\n",
       "      <td>1170963</td>\n",
       "      <td>18239379</td>\n",
       "      <td>241438</td>\n",
       "      <td>5599347</td>\n",
       "      <td>36605</td>\n",
       "      <td>4.681491e+11</td>\n",
       "      <td>11579207148357743</td>\n",
       "      <td>...</td>\n",
       "      <td>1.555602e+09</td>\n",
       "      <td>1.424465e+09</td>\n",
       "      <td>98258045079</td>\n",
       "      <td>76510.060408</td>\n",
       "      <td>851.155962</td>\n",
       "      <td>0.000203</td>\n",
       "      <td>69860.008277</td>\n",
       "      <td>1.019504e+08</td>\n",
       "      <td>1284250</td>\n",
       "      <td>398.991334</td>\n",
       "    </tr>\n",
       "    <tr>\n",
       "      <th>2295</th>\n",
       "      <td>2021-11-19</td>\n",
       "      <td>4291.286350</td>\n",
       "      <td>609855</td>\n",
       "      <td>1173875</td>\n",
       "      <td>18249104</td>\n",
       "      <td>241822</td>\n",
       "      <td>5610275</td>\n",
       "      <td>36682</td>\n",
       "      <td>5.040554e+11</td>\n",
       "      <td>11194441353214132</td>\n",
       "      <td>...</td>\n",
       "      <td>1.047566e+09</td>\n",
       "      <td>1.341948e+09</td>\n",
       "      <td>96064983806</td>\n",
       "      <td>76497.771762</td>\n",
       "      <td>801.632454</td>\n",
       "      <td>0.000208</td>\n",
       "      <td>77087.939898</td>\n",
       "      <td>1.022363e+08</td>\n",
       "      <td>1255788</td>\n",
       "      <td>397.261972</td>\n",
       "    </tr>\n",
       "  </tbody>\n",
       "</table>\n",
       "<p>2296 rows × 23 columns</p>\n",
       "</div>"
      ],
      "text/plain": [
       "            date     PriceUSD  AdrActCnt  AdrBal1in100MCnt  AdrBal1in10BCnt  \\\n",
       "0     2015-08-08     1.199990       1208              9958            10267   \n",
       "1     2015-08-09     1.199990       1113             10043            10411   \n",
       "2     2015-08-10     1.199990       1430             10145            10572   \n",
       "3     2015-08-11     0.990000       2697             10188            10706   \n",
       "4     2015-08-12     1.288000       1219             10296            10893   \n",
       "...          ...          ...        ...               ...              ...   \n",
       "2291  2021-11-15  4569.407770     606036           1166692         18202185   \n",
       "2292  2021-11-16  4234.131465     609879           1165639         18237665   \n",
       "2293  2021-11-17  4265.599006     695412           1167736         18217312   \n",
       "2294  2021-11-18  3985.674373     591159           1170963         18239379   \n",
       "2295  2021-11-19  4291.286350     609855           1173875         18249104   \n",
       "\n",
       "      AdrBal1in10MCnt  AdrBal1in1BCnt  AdrBal1in1MCnt  CapMrktCurUSD  \\\n",
       "0                9550           10115            8111   8.676871e+07   \n",
       "1                9573           10222            8091   8.680133e+07   \n",
       "2                9611           10348            8101   8.683471e+07   \n",
       "3                9614           10429            8081   7.166698e+07   \n",
       "4                9654           10574            8105   9.327472e+07   \n",
       "...               ...             ...             ...            ...   \n",
       "2291           241239         5573039           36595   5.367033e+11   \n",
       "2292           240967         5580973           36564   4.973249e+11   \n",
       "2293           241192         5589438           36563   5.010266e+11   \n",
       "2294           241438         5599347           36605   4.681491e+11   \n",
       "2295           241822         5610275           36682   5.040554e+11   \n",
       "\n",
       "               DiffLast  ...   FlowInExUSD  FlowOutExUSD    GasUsedTx  \\\n",
       "0         1606016380751  ...  1.033888e+06  1.698517e+04    376006093   \n",
       "1         1741399466631  ...  6.414313e+05  1.127113e+05     38863003   \n",
       "2         1948102094734  ...  1.055335e+06  2.135630e+05     74070061   \n",
       "3         2171897473895  ...  4.513437e+05  1.752126e+05    163481740   \n",
       "4         2248237602936  ...  4.743256e+05  1.891297e+05     70102332   \n",
       "...                 ...  ...           ...           ...          ...   \n",
       "2291  11263394429417836  ...  8.676790e+08  1.029855e+10  97422476367   \n",
       "2292  10918227329653401  ...  1.755198e+09  1.678261e+09  96356492010   \n",
       "2293  11549986846583558  ...  1.167281e+09  1.282525e+09  98477697827   \n",
       "2294  11579207148357743  ...  1.555602e+09  1.424465e+09  98258045079   \n",
       "2295  11194441353214132  ...  1.047566e+09  1.341948e+09  96064983806   \n",
       "\n",
       "      GasUsedTxMean    HashRate  RevHashNtv  RevHashRateUSD  SplyAdrBalUSD1M  \\\n",
       "0     130512.354391    0.096483    3.360253   348388.084065     1.661840e+07   \n",
       "1      29242.289691    0.101360    3.105048   321928.661618     1.682678e+07   \n",
       "2      36362.327442    0.111855    2.881582   298759.890307     1.720648e+07   \n",
       "3      32940.104775    0.124450    2.607691   223051.462249     1.551874e+07   \n",
       "4      34431.400786    0.130915    2.422720   269607.996077     1.851254e+07   \n",
       "...             ...         ...         ...             ...              ...   \n",
       "2291   75542.615410  817.739849    0.000213    84078.925802     1.025092e+08   \n",
       "2292   73545.984332  793.794054    0.000219    80290.211052     1.022489e+08   \n",
       "2293   72772.919850  830.259240    0.000207    76139.406528     1.022624e+08   \n",
       "2294   76510.060408  851.155962    0.000203    69860.008277     1.019504e+08   \n",
       "2295   76497.771762  801.632454    0.000208    77087.939898     1.022363e+08   \n",
       "\n",
       "        TxCnt  TxTfrValMedUSD  \n",
       "0        2881        1.199990  \n",
       "1        1329       15.599147  \n",
       "2        2037        0.718002  \n",
       "3        4963        0.053993  \n",
       "4        2036       12.880000  \n",
       "...       ...             ...  \n",
       "2291  1289636      456.940777  \n",
       "2292  1310153      423.413146  \n",
       "2293  1353219      319.823949  \n",
       "2294  1284250      398.991334  \n",
       "2295  1255788      397.261972  \n",
       "\n",
       "[2296 rows x 23 columns]"
      ]
     },
     "execution_count": 4,
     "metadata": {},
     "output_type": "execute_result"
    }
   ],
   "source": [
    "df = pd.read_csv('data/eth_clean.csv')\n",
    "df.drop(columns='Unnamed: 0', inplace = True)\n",
    "df"
   ]
  },
  {
   "cell_type": "markdown",
   "id": "adc0e2d5-2155-4a3c-b98f-c20b53d6f493",
   "metadata": {},
   "source": [
    "  "
   ]
  },
  {
   "cell_type": "markdown",
   "id": "43519fea-a7c9-4f7c-b8f5-b051166bbb97",
   "metadata": {},
   "source": [
    "##### In order to use machine learning models, we need to reframe our multivariate time-series data into a supervised learning problem."
   ]
  },
  {
   "cell_type": "markdown",
   "id": "e74e5b9d-7197-48c9-8ad2-bad3855cdf27",
   "metadata": {},
   "source": [
    "### 2. Data processing"
   ]
  },
  {
   "cell_type": "code",
   "execution_count": 5,
   "id": "889633c5-7276-45e3-b64e-f528aea3bb58",
   "metadata": {},
   "outputs": [],
   "source": [
    "def data_processing(df, window_length):\n",
    "   \n",
    "    \"\"\"\n",
    "    Create a function to process data with dataframe, window length arguments:\n",
    "       - Drop the column date as we don't use it as a predictor\n",
    "       - Use the defined function above to convert multivariate time-series data into supervised learning\n",
    "       - y: new label (0,1)\n",
    "       - Remove columns (t) we don't need    \n",
    "    Return: X, y\n",
    "    \"\"\"\n",
    "    \n",
    "    data = df.copy()\n",
    "    data.drop(columns = 'date', axis=1, inplace=True)\n",
    "    \n",
    "    # create a new feature named \"Label\": 1 means the price is up, 0 means the price is down or not changed\n",
    "    data['Label'] = 0\n",
    "\n",
    "    for i in range(len(data.index)):\n",
    "        if i == 0:\n",
    "            data['Label'][i] = 0 \n",
    "        elif data['PriceUSD'][i] > data['PriceUSD'][i-1]:\n",
    "            data['Label'][i] = 1 \n",
    "        else:\n",
    "            data['Label'][i] = 0 \n",
    "        \n",
    "    X = time_series_to_supervised(data, window_length,1)\n",
    "    y = data['Label'][window_length:]\n",
    "\n",
    "    X.drop(columns = ['var1(t)','var2(t)','var3(t)','var4(t)','var5(t)','var6(t)','var7(t)','var8(t)','var9(t)','var10(t)','var11(t)','var12(t)','var13(t)','var14(t)','var15(t)','var16(t)','var17(t)','var18(t)','var19(t)','var20(t)','var21(t)','var22(t)'], inplace=True)\n",
    "    X.head()\n",
    "    \n",
    "    return X, y"
   ]
  },
  {
   "cell_type": "markdown",
   "id": "04faa026-1f0b-4f8e-9bb4-54d5e4e01fc2",
   "metadata": {},
   "source": [
    "##### Data processing"
   ]
  },
  {
   "cell_type": "code",
   "execution_count": 6,
   "id": "fb8c2035-a461-4924-96c7-c4c9c0751ec8",
   "metadata": {},
   "outputs": [],
   "source": [
    "window_length = 7\n",
    "X, y = data_processing(df, window_length)"
   ]
  },
  {
   "cell_type": "code",
   "execution_count": 7,
   "id": "dca491e4-50dc-47c3-8ffb-0b5df8b14e7e",
   "metadata": {},
   "outputs": [
    {
     "name": "stdout",
     "output_type": "stream",
     "text": [
      "(2289, 162)\n",
      "(2289,)\n"
     ]
    }
   ],
   "source": [
    "print(X.shape)\n",
    "print(y.shape)"
   ]
  },
  {
   "cell_type": "markdown",
   "id": "4ee10eee-eb59-40f1-a277-f08cb06e61e9",
   "metadata": {},
   "source": [
    "##### Split data into train and test datasets with time-series order (shuffle=False)"
   ]
  },
  {
   "cell_type": "code",
   "execution_count": 8,
   "id": "0eae59f0-6475-46a7-bc11-d6ee646c83f4",
   "metadata": {},
   "outputs": [],
   "source": [
    "X_train, X_test, y_train, y_test = train_test_split(X, y, test_size=0.3, shuffle=False)"
   ]
  },
  {
   "cell_type": "markdown",
   "id": "0b9ff51e-1989-47eb-a9dd-8a39f358d6cf",
   "metadata": {},
   "source": [
    "  "
   ]
  },
  {
   "cell_type": "markdown",
   "id": "c24b62ce-d970-4714-9a07-82db3d1ca4fd",
   "metadata": {},
   "source": [
    "### 3. Train data with different machine learning models"
   ]
  },
  {
   "cell_type": "code",
   "execution_count": 9,
   "id": "921ed19a-7076-48c6-8284-2dace7912ebf",
   "metadata": {},
   "outputs": [],
   "source": [
    "def ml_model(X_train, y_train, X_test, y_test, model):\n",
    "    \n",
    "    \"\"\"\n",
    "    Define a pipeline, fit the model, predict price, print evaluation metrics  \"\"\"\n",
    "    \n",
    "    # Define a pipeline\n",
    "    pipeline = Pipeline(steps=[('scaling', StandardScaler()), ('classifier', model)])\n",
    "    \n",
    "    # Fit the model\n",
    "    pipeline.fit(X_train, y_train)\n",
    "    y_pred = pipeline.predict(X_test)\n",
    "    \n",
    "    # Print evaluation metrics\n",
    "    print('Evaluation metrics: ')\n",
    "    binary_classifier_metrics(y_test, y_pred)"
   ]
  },
  {
   "cell_type": "markdown",
   "id": "3224269f-92a6-45ee-bc79-7ead78808e90",
   "metadata": {},
   "source": [
    "#### 3.1 Logistic Regression"
   ]
  },
  {
   "cell_type": "code",
   "execution_count": 10,
   "id": "45fa2d9e-c475-40eb-bc98-4bbb9c61c206",
   "metadata": {},
   "outputs": [
    {
     "name": "stdout",
     "output_type": "stream",
     "text": [
      "Evaluation metrics: \n",
      "Accuracy:  0.9781659388646288\n",
      "Precision score:  0.9946236559139785\n",
      "Confusion Matrix: \n",
      " [[302   2]\n",
      " [ 13 370]]\n",
      "F1 score:  0.9801324503311258\n",
      "Recall score:  0.9660574412532638\n"
     ]
    }
   ],
   "source": [
    "ml_model(X_train, y_train, X_test, y_test, LogisticRegression())"
   ]
  },
  {
   "cell_type": "markdown",
   "id": "68dbaa3a-8b26-4053-98ce-31399e32105d",
   "metadata": {},
   "source": [
    "#### 3.2 LinearSVC"
   ]
  },
  {
   "cell_type": "code",
   "execution_count": 11,
   "id": "4e194823-50a0-42b5-a5d0-4490facda9f3",
   "metadata": {},
   "outputs": [
    {
     "name": "stdout",
     "output_type": "stream",
     "text": [
      "Evaluation metrics: \n",
      "Accuracy:  1.0\n",
      "Precision score:  1.0\n",
      "Confusion Matrix: \n",
      " [[304   0]\n",
      " [  0 383]]\n",
      "F1 score:  1.0\n",
      "Recall score:  1.0\n"
     ]
    }
   ],
   "source": [
    "linearSVC_model = ml_model(X_train, y_train, X_test, y_test, LinearSVC())"
   ]
  },
  {
   "cell_type": "markdown",
   "id": "a24af477-31bd-4f9b-93db-c51ace752b61",
   "metadata": {},
   "source": [
    "#### 3.3 XGBoost"
   ]
  },
  {
   "cell_type": "code",
   "execution_count": 12,
   "id": "bbb19fe8-8eef-440b-8331-87ea98a2f6af",
   "metadata": {},
   "outputs": [
    {
     "name": "stdout",
     "output_type": "stream",
     "text": [
      "[17:13:04] WARNING: ../src/learner.cc:1115: Starting in XGBoost 1.3.0, the default evaluation metric used with the objective 'binary:logistic' was changed from 'error' to 'logloss'. Explicitly set eval_metric if you'd like to restore the old behavior.\n",
      "Evaluation metrics: \n",
      "Accuracy:  1.0\n",
      "Precision score:  1.0\n",
      "Confusion Matrix: \n",
      " [[304   0]\n",
      " [  0 383]]\n",
      "F1 score:  1.0\n",
      "Recall score:  1.0\n"
     ]
    }
   ],
   "source": [
    "ml_model(X_train, y_train, X_test, y_test, XGBClassifier())"
   ]
  },
  {
   "cell_type": "markdown",
   "id": "7b1d4ee5-fd7c-4812-b0ec-fca10a37b780",
   "metadata": {},
   "source": [
    "#### 3.4 GaussianNB"
   ]
  },
  {
   "cell_type": "code",
   "execution_count": 13,
   "id": "00fb501d-626b-40d3-9ee8-ef8b5ceb647d",
   "metadata": {},
   "outputs": [
    {
     "name": "stdout",
     "output_type": "stream",
     "text": [
      "Evaluation metrics: \n",
      "Accuracy:  1.0\n",
      "Precision score:  1.0\n",
      "Confusion Matrix: \n",
      " [[304   0]\n",
      " [  0 383]]\n",
      "F1 score:  1.0\n",
      "Recall score:  1.0\n"
     ]
    }
   ],
   "source": [
    "NB_model = ml_model(X_train, y_train, X_test, y_test, GaussianNB())"
   ]
  },
  {
   "cell_type": "markdown",
   "id": "d4816d0c-114a-4223-9ff1-6a0930b39dbf",
   "metadata": {},
   "source": [
    "#### 3.5 RandomForestClassifier"
   ]
  },
  {
   "cell_type": "code",
   "execution_count": 14,
   "id": "c2714c9c-ec51-4fc9-9c04-e4cd00f9a826",
   "metadata": {},
   "outputs": [
    {
     "name": "stdout",
     "output_type": "stream",
     "text": [
      "Evaluation metrics: \n",
      "Accuracy:  1.0\n",
      "Precision score:  1.0\n",
      "Confusion Matrix: \n",
      " [[304   0]\n",
      " [  0 383]]\n",
      "F1 score:  1.0\n",
      "Recall score:  1.0\n"
     ]
    }
   ],
   "source": [
    "RF_model = ml_model(X_train, y_train, X_test, y_test, RandomForestClassifier(max_features='sqrt'))"
   ]
  },
  {
   "cell_type": "markdown",
   "id": "1176f882-94fd-4e74-897b-f068923f666c",
   "metadata": {},
   "source": [
    "### 4 Conclusion"
   ]
  },
  {
   "cell_type": "markdown",
   "id": "438e715f-1cec-4fb8-9366-f451bc63e02c",
   "metadata": {},
   "source": [
    "##### The accuary of models is 1.0 because our dataset is small. We need to have a bigger dataset to have more reliable ML models."
   ]
  }
 ],
 "metadata": {
  "kernelspec": {
   "display_name": "Python 3 (ipykernel)",
   "language": "python",
   "name": "python3"
  },
  "language_info": {
   "codemirror_mode": {
    "name": "ipython",
    "version": 3
   },
   "file_extension": ".py",
   "mimetype": "text/x-python",
   "name": "python",
   "nbconvert_exporter": "python",
   "pygments_lexer": "ipython3",
   "version": "3.9.7"
  }
 },
 "nbformat": 4,
 "nbformat_minor": 5
}
